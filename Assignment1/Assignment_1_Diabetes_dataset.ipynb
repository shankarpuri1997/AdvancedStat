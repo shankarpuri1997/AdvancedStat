{
 "cells": [
  {
   "cell_type": "code",
   "execution_count": 1,
   "metadata": {},
   "outputs": [],
   "source": [
    "import pandas as pd\n",
    "import numpy as np\n",
    "import matplotlib.pyplot as plt\n",
    "import seaborn as sns\n",
    "from sklearn.model_selection import train_test_split,KFold\n",
    "from sklearn.linear_model import Lasso\n",
    "from sklearn.linear_model import Ridge\n",
    "from sklearn.linear_model import LinearRegression\n",
    "from sklearn import metrics\n",
    "from sklearn import preprocessing"
   ]
  },
  {
   "cell_type": "code",
   "execution_count": 2,
   "metadata": {},
   "outputs": [],
   "source": [
    "#Part 1#"
   ]
  },
  {
   "cell_type": "code",
   "execution_count": 15,
   "metadata": {},
   "outputs": [],
   "source": [
    "#Loading diabetes data#\n",
    "from sklearn import datasets\n",
    "df = datasets.load_diabetes()"
   ]
  },
  {
   "cell_type": "code",
   "execution_count": 16,
   "metadata": {},
   "outputs": [],
   "source": [
    "X = df.data\n",
    "y = df.target"
   ]
  },
  {
   "cell_type": "code",
   "execution_count": 20,
   "metadata": {},
   "outputs": [],
   "source": [
    "y = np.reshape(y,(y.shape[0],1))"
   ]
  },
  {
   "cell_type": "code",
   "execution_count": 22,
   "metadata": {},
   "outputs": [],
   "source": [
    "df_1 = np.hstack((X,y))"
   ]
  },
  {
   "cell_type": "code",
   "execution_count": 23,
   "metadata": {},
   "outputs": [],
   "source": [
    "from sklearn.preprocessing import StandardScaler\n",
    "df = StandardScaler().fit_transform(df_1)"
   ]
  },
  {
   "cell_type": "code",
   "execution_count": 24,
   "metadata": {},
   "outputs": [],
   "source": [
    "#Splitting data into training and testing datasets#\n",
    "X_train, X_test, y_train, y_test = train_test_split(df[:,:-1], df[:,-1], test_size = 0.30)"
   ]
  },
  {
   "cell_type": "code",
   "execution_count": 25,
   "metadata": {},
   "outputs": [],
   "source": [
    "### Code for metrics calculation\n",
    "def metrica(model , X_train , y_train , X_test , y_test,p,lambda_= None):\n",
    "    regressor = model(lambda_)                #Initializing Model\n",
    "    regressor.fit(X_train,y_train)            #Fitting Model\n",
    "    prediction = regressor.predict(X_test)    # Predicting Model\n",
    "\n",
    "    # Calculating metrics RMSE and R^2\n",
    "\n",
    "    rmse =  metrics.mean_squared_error(y_test,prediction,squared=False)\n",
    "    r2 = metrics.r2_score(y_test,prediction)\n",
    "\n",
    "    if p == True:\n",
    "        return print( \"RMSE is \" + str(rmse) + \" and R^2 is \" + str(r2) )\n",
    "    else:\n",
    "        return np.array([rmse , r2])"
   ]
  },
  {
   "cell_type": "code",
   "execution_count": 26,
   "metadata": {},
   "outputs": [],
   "source": [
    "#Part 2#"
   ]
  },
  {
   "cell_type": "markdown",
   "metadata": {},
   "source": [
    "Lasso Regression"
   ]
  },
  {
   "cell_type": "code",
   "execution_count": 27,
   "metadata": {},
   "outputs": [
    {
     "name": "stdout",
     "output_type": "stream",
     "text": [
      "RMSE is 0.73486187307788 and R^2 is 0.4894706695617842\n"
     ]
    }
   ],
   "source": [
    "from sklearn.linear_model import Lasso\n",
    "metrica(Lasso,X_train,y_train,X_test,y_test,p = True,lambda_= 0.1)"
   ]
  },
  {
   "cell_type": "markdown",
   "metadata": {},
   "source": [
    "Ridge Regression"
   ]
  },
  {
   "cell_type": "code",
   "execution_count": 28,
   "metadata": {},
   "outputs": [
    {
     "name": "stdout",
     "output_type": "stream",
     "text": [
      "RMSE is 0.6740079404847066 and R^2 is 0.5705236109905075\n"
     ]
    }
   ],
   "source": [
    "from sklearn.linear_model import Ridge\n",
    "metrica(Ridge,X_train,y_train,X_test,y_test,p = True,lambda_ = 1.0)"
   ]
  },
  {
   "cell_type": "markdown",
   "metadata": {},
   "source": [
    "MLR"
   ]
  },
  {
   "cell_type": "code",
   "execution_count": 29,
   "metadata": {},
   "outputs": [
    {
     "name": "stdout",
     "output_type": "stream",
     "text": [
      "RMSE is 0.6637392269157301 and R^2 is 0.5835103271032706\n"
     ]
    }
   ],
   "source": [
    "from sklearn.linear_model import LinearRegression\n",
    "metrica(LinearRegression,X_train,y_train,X_test,y_test,p = True)"
   ]
  },
  {
   "cell_type": "markdown",
   "metadata": {},
   "source": [
    "KNN"
   ]
  },
  {
   "cell_type": "code",
   "execution_count": 30,
   "metadata": {},
   "outputs": [
    {
     "name": "stdout",
     "output_type": "stream",
     "text": [
      "RMSE is 0.779286235795481 and R^2 is 0.4258792043231203\n"
     ]
    }
   ],
   "source": [
    "from sklearn.neighbors import KNeighborsRegressor\n",
    "metrica(KNeighborsRegressor,X_train,y_train,X_test,y_test,p = True,lambda_=6)"
   ]
  },
  {
   "cell_type": "code",
   "execution_count": 31,
   "metadata": {},
   "outputs": [],
   "source": [
    "#Part 3#"
   ]
  },
  {
   "cell_type": "markdown",
   "metadata": {},
   "source": [
    "Cross Validation"
   ]
  },
  {
   "cell_type": "code",
   "execution_count": 32,
   "metadata": {},
   "outputs": [],
   "source": [
    "class cv:\n",
    "    def __init__(self,model,data,k_fold,lambda_=None):\n",
    "        self.model = model\n",
    "        self.X  = data[:,:-1]\n",
    "        self.y  = data[:,-1]\n",
    "        self.k_fold  = k_fold\n",
    "        self.lambda_ = lambda_\n",
    "\n",
    "    def compute(self):\n",
    "        kf = KFold(n_splits=self.k_fold)\n",
    "        regressor = self.model(self.lambda_)\n",
    "        a = np.empty(self.k_fold,dtype=np.float64)\n",
    "        b = np.empty(self.k_fold,dtype=np.float64)\n",
    "        count = -1\n",
    "        for train_index, test_index in kf.split(self.X):\n",
    "            count = count +1\n",
    "            X_train, X_test = self.X[train_index], self.X[test_index]\n",
    "            y_train, y_test = self.y[train_index], self.y[test_index]\n",
    "            regressor.fit(X_train,y_train)\n",
    "            prediction = regressor.predict(X_test)\n",
    "            rmse_ =  metrics.mean_squared_error(y_test,prediction,squared=False)\n",
    "            r2_ = metrics.r2_score(y_test,prediction)\n",
    "            a[count]=rmse_\n",
    "            b[count]=r2_\n",
    "        self.rmse = a\n",
    "        self.r2 = b\n",
    "        return self"
   ]
  },
  {
   "cell_type": "markdown",
   "metadata": {},
   "source": [
    "Lasso Regression"
   ]
  },
  {
   "cell_type": "code",
   "execution_count": 33,
   "metadata": {},
   "outputs": [],
   "source": [
    "from sklearn.linear_model import Lasso\n",
    "cross_valid_lasso = cv(Lasso,df,6,0.11)\n",
    "cross_valid_lasso.compute();"
   ]
  },
  {
   "cell_type": "code",
   "execution_count": 34,
   "metadata": {},
   "outputs": [
    {
     "name": "stdout",
     "output_type": "stream",
     "text": [
      "Mean of RMSE is 0.7343550481244928\n",
      "Mean of R^2 is 0.4483233250117606\n"
     ]
    }
   ],
   "source": [
    "print(\"Mean of RMSE is \"+ str(cross_valid_lasso.rmse.mean()))\n",
    "print(\"Mean of R^2 is \" + str(cross_valid_lasso.r2.mean()))"
   ]
  },
  {
   "cell_type": "markdown",
   "metadata": {},
   "source": [
    "Ridge Regression"
   ]
  },
  {
   "cell_type": "code",
   "execution_count": 35,
   "metadata": {},
   "outputs": [],
   "source": [
    "from sklearn.linear_model import Ridge\n",
    "cross_valid_ridge = cv(Ridge,df,6,0.11)\n",
    "cross_valid_ridge.compute();"
   ]
  },
  {
   "cell_type": "code",
   "execution_count": 36,
   "metadata": {},
   "outputs": [
    {
     "name": "stdout",
     "output_type": "stream",
     "text": [
      "Mean of RMSE is 0.7122450577602372\n",
      "Mean of R^2 is 0.479790858411335\n"
     ]
    }
   ],
   "source": [
    "print(\"Mean of RMSE is \"+ str(cross_valid_ridge.rmse.mean()))\n",
    "print(\"Mean of R^2 is \" + str(cross_valid_ridge.r2.mean()))"
   ]
  },
  {
   "cell_type": "markdown",
   "metadata": {},
   "source": [
    "MLR"
   ]
  },
  {
   "cell_type": "code",
   "execution_count": 37,
   "metadata": {},
   "outputs": [],
   "source": [
    "from sklearn.linear_model import LinearRegression\n",
    "cross_valid_MLR = cv(LinearRegression,df,6)\n",
    "cross_valid_MLR.compute();"
   ]
  },
  {
   "cell_type": "code",
   "execution_count": 38,
   "metadata": {},
   "outputs": [
    {
     "name": "stdout",
     "output_type": "stream",
     "text": [
      "Mean of RMSE is 0.7109658296917613\n",
      "Mean of R^2 is 0.4816852607318783\n"
     ]
    }
   ],
   "source": [
    "print(\"Mean of RMSE is \"+ str(cross_valid_MLR.rmse.mean()))\n",
    "print(\"Mean of R^2 is \" + str(cross_valid_MLR.r2.mean()))"
   ]
  },
  {
   "cell_type": "markdown",
   "metadata": {},
   "source": [
    "KNN"
   ]
  },
  {
   "cell_type": "code",
   "execution_count": 39,
   "metadata": {},
   "outputs": [],
   "source": [
    "from sklearn.neighbors import KNeighborsRegressor\n",
    "cross_valid_knn = cv(KNeighborsRegressor,df,6,9)\n",
    "cross_valid_knn.compute();"
   ]
  },
  {
   "cell_type": "code",
   "execution_count": 40,
   "metadata": {},
   "outputs": [
    {
     "name": "stdout",
     "output_type": "stream",
     "text": [
      "Mean of RMSE is 0.7561451229305206\n",
      "Mean of R^2 is 0.41663741763080653\n"
     ]
    }
   ],
   "source": [
    "print(\"Mean of RMSE is \"+ str(cross_valid_knn.rmse.mean()))\n",
    "print(\"Mean of R^2 is \" + str(cross_valid_knn.r2.mean()))"
   ]
  },
  {
   "cell_type": "code",
   "execution_count": 41,
   "metadata": {},
   "outputs": [],
   "source": [
    "#Part 4#"
   ]
  },
  {
   "cell_type": "markdown",
   "metadata": {},
   "source": [
    "Presence of outliers"
   ]
  },
  {
   "cell_type": "code",
   "execution_count": 47,
   "metadata": {},
   "outputs": [],
   "source": [
    "#Loading diabetes data once again#\n",
    "from sklearn import datasets\n",
    "df_1 = datasets.load_diabetes()"
   ]
  },
  {
   "cell_type": "code",
   "execution_count": 52,
   "metadata": {},
   "outputs": [],
   "source": [
    "X_1 = df_1.data\n",
    "y_1 = df_1.target"
   ]
  },
  {
   "cell_type": "code",
   "execution_count": 53,
   "metadata": {},
   "outputs": [
    {
     "data": {
      "text/html": [
       "<div>\n",
       "<style scoped>\n",
       "    .dataframe tbody tr th:only-of-type {\n",
       "        vertical-align: middle;\n",
       "    }\n",
       "\n",
       "    .dataframe tbody tr th {\n",
       "        vertical-align: top;\n",
       "    }\n",
       "\n",
       "    .dataframe thead th {\n",
       "        text-align: right;\n",
       "    }\n",
       "</style>\n",
       "<table border=\"1\" class=\"dataframe\">\n",
       "  <thead>\n",
       "    <tr style=\"text-align: right;\">\n",
       "      <th></th>\n",
       "      <th>age</th>\n",
       "      <th>sex</th>\n",
       "      <th>bmi</th>\n",
       "      <th>bp</th>\n",
       "      <th>tc</th>\n",
       "      <th>ldl</th>\n",
       "      <th>hdl</th>\n",
       "      <th>tch</th>\n",
       "      <th>ltg</th>\n",
       "      <th>glu</th>\n",
       "    </tr>\n",
       "  </thead>\n",
       "  <tbody>\n",
       "    <tr>\n",
       "      <th>0</th>\n",
       "      <td>0.038076</td>\n",
       "      <td>0.050680</td>\n",
       "      <td>0.061696</td>\n",
       "      <td>0.021872</td>\n",
       "      <td>-0.044223</td>\n",
       "      <td>-0.034821</td>\n",
       "      <td>-0.043401</td>\n",
       "      <td>-0.002592</td>\n",
       "      <td>0.019908</td>\n",
       "      <td>-0.017646</td>\n",
       "    </tr>\n",
       "    <tr>\n",
       "      <th>1</th>\n",
       "      <td>-0.001882</td>\n",
       "      <td>-0.044642</td>\n",
       "      <td>-0.051474</td>\n",
       "      <td>-0.026328</td>\n",
       "      <td>-0.008449</td>\n",
       "      <td>-0.019163</td>\n",
       "      <td>0.074412</td>\n",
       "      <td>-0.039493</td>\n",
       "      <td>-0.068330</td>\n",
       "      <td>-0.092204</td>\n",
       "    </tr>\n",
       "    <tr>\n",
       "      <th>2</th>\n",
       "      <td>0.085299</td>\n",
       "      <td>0.050680</td>\n",
       "      <td>0.044451</td>\n",
       "      <td>-0.005671</td>\n",
       "      <td>-0.045599</td>\n",
       "      <td>-0.034194</td>\n",
       "      <td>-0.032356</td>\n",
       "      <td>-0.002592</td>\n",
       "      <td>0.002864</td>\n",
       "      <td>-0.025930</td>\n",
       "    </tr>\n",
       "    <tr>\n",
       "      <th>3</th>\n",
       "      <td>-0.089063</td>\n",
       "      <td>-0.044642</td>\n",
       "      <td>-0.011595</td>\n",
       "      <td>-0.036656</td>\n",
       "      <td>0.012191</td>\n",
       "      <td>0.024991</td>\n",
       "      <td>-0.036038</td>\n",
       "      <td>0.034309</td>\n",
       "      <td>0.022692</td>\n",
       "      <td>-0.009362</td>\n",
       "    </tr>\n",
       "    <tr>\n",
       "      <th>4</th>\n",
       "      <td>0.005383</td>\n",
       "      <td>-0.044642</td>\n",
       "      <td>-0.036385</td>\n",
       "      <td>0.021872</td>\n",
       "      <td>0.003935</td>\n",
       "      <td>0.015596</td>\n",
       "      <td>0.008142</td>\n",
       "      <td>-0.002592</td>\n",
       "      <td>-0.031991</td>\n",
       "      <td>-0.046641</td>\n",
       "    </tr>\n",
       "  </tbody>\n",
       "</table>\n",
       "</div>"
      ],
      "text/plain": [
       "        age       sex       bmi        bp        tc       ldl       hdl  \\\n",
       "0  0.038076  0.050680  0.061696  0.021872 -0.044223 -0.034821 -0.043401   \n",
       "1 -0.001882 -0.044642 -0.051474 -0.026328 -0.008449 -0.019163  0.074412   \n",
       "2  0.085299  0.050680  0.044451 -0.005671 -0.045599 -0.034194 -0.032356   \n",
       "3 -0.089063 -0.044642 -0.011595 -0.036656  0.012191  0.024991 -0.036038   \n",
       "4  0.005383 -0.044642 -0.036385  0.021872  0.003935  0.015596  0.008142   \n",
       "\n",
       "        tch       ltg       glu  \n",
       "0 -0.002592  0.019908 -0.017646  \n",
       "1 -0.039493 -0.068330 -0.092204  \n",
       "2 -0.002592  0.002864 -0.025930  \n",
       "3  0.034309  0.022692 -0.009362  \n",
       "4 -0.002592 -0.031991 -0.046641  "
      ]
     },
     "execution_count": 53,
     "metadata": {},
     "output_type": "execute_result"
    }
   ],
   "source": [
    "#creating dataframe from data\n",
    "datframe = pd.DataFrame(X_1, columns=[\"age\",\"sex\",\"bmi\",\"bp\", \"tc\", \"ldl\", \"hdl\",\"tch\", \"ltg\", \"glu\"])\n",
    "#showing head\n",
    "datframe.head()"
   ]
  },
  {
   "cell_type": "code",
   "execution_count": 54,
   "metadata": {},
   "outputs": [],
   "source": [
    "datframe[\"targ\"] = y_1"
   ]
  },
  {
   "cell_type": "code",
   "execution_count": 55,
   "metadata": {},
   "outputs": [
    {
     "data": {
      "text/plain": [
       "(442, 11)"
      ]
     },
     "execution_count": 55,
     "metadata": {},
     "output_type": "execute_result"
    }
   ],
   "source": [
    "datframe.shape"
   ]
  },
  {
   "cell_type": "code",
   "execution_count": 57,
   "metadata": {},
   "outputs": [
    {
     "data": {
      "text/plain": [
       "age     0\n",
       "sex     0\n",
       "bmi     0\n",
       "bp      0\n",
       "tc      0\n",
       "ldl     0\n",
       "hdl     0\n",
       "tch     0\n",
       "ltg     0\n",
       "glu     0\n",
       "targ    0\n",
       "dtype: int64"
      ]
     },
     "execution_count": 57,
     "metadata": {},
     "output_type": "execute_result"
    }
   ],
   "source": [
    "datframe.isnull().sum()"
   ]
  },
  {
   "cell_type": "code",
   "execution_count": 56,
   "metadata": {},
   "outputs": [
    {
     "data": {
      "image/png": "[encoded data removed]",
      "text/plain": [
       "<Figure size 1080x360 with 12 Axes>"
      ]
     },
     "metadata": {
      "needs_background": "light"
     },
     "output_type": "display_data"
    }
   ],
   "source": [
    "fig, ax = plt.subplots(ncols=6, nrows=2, figsize=(15, 5))\n",
    "ax = ax.flatten()\n",
    "index = 0\n",
    "for i in datframe.columns:\n",
    "  sns.boxplot(y=i, data=datframe, ax=ax[index])\n",
    "  index +=1\n",
    "plt.tight_layout(pad=0.4)\n",
    "plt.show()"
   ]
  },
  {
   "cell_type": "code",
   "execution_count": 58,
   "metadata": {},
   "outputs": [
    {
     "name": "stdout",
     "output_type": "stream",
     "text": [
      "Outliers in age is 0.00% with count 0\n",
      "Outliers in sex is 0.00% with count 0\n",
      "Outliers in bmi is 0.68% with count 3\n",
      "Outliers in bp is 0.00% with count 0\n",
      "Outliers in tc is 1.81% with count 8\n",
      "Outliers in ldl is 1.58% with count 7\n",
      "Outliers in hdl is 1.58% with count 7\n",
      "Outliers in tch is 0.90% with count 4\n",
      "Outliers in ltg is 0.90% with count 4\n",
      "Outliers in glu is 2.04% with count 9\n",
      "Outliers in targ is 0.00% with count 0\n"
     ]
    }
   ],
   "source": [
    "#checking percentage and amount of outliers\n",
    "for i in datframe.columns:\n",
    "  datframe.sort_values(by=i, ascending=True, na_position='last')\n",
    "  q1, q3 = np.nanpercentile(datframe[i], [25,75])\n",
    "  iqr = q3-q1\n",
    "  lower_bound = q1-(1.5*iqr)\n",
    "  upper_bound = q3+(1.5*iqr)\n",
    "  outlier_data = datframe[i][(datframe[i] < lower_bound) | (datframe[i] > upper_bound)] #creating a series of outlier data\n",
    "  perc = (outlier_data.count()/datframe[i].count())*100\n",
    "  print('Outliers in %s is %.2f%% with count %.f' %(i, perc, outlier_data.count()))"
   ]
  }
 ],
 "metadata": {
  "kernelspec": {
   "display_name": "Python 3",
   "language": "python",
   "name": "python3"
  },
  "language_info": {
   "codemirror_mode": {
    "name": "ipython",
    "version": 3
   },
   "file_extension": ".py",
   "mimetype": "text/x-python",
   "name": "python",
   "nbconvert_exporter": "python",
   "pygments_lexer": "ipython3",
   "version": "3.7.6"
  }
 },
 "nbformat": 4,
 "nbformat_minor": 4
}
